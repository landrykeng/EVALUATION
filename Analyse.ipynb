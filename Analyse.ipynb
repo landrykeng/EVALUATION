{
 "cells": [
  {
   "cell_type": "code",
   "execution_count": 1,
   "id": "00e9b204",
   "metadata": {},
   "outputs": [],
   "source": [
    "import pandas as pd\n",
    "import numpy as np"
   ]
  },
  {
   "cell_type": "code",
   "execution_count": 19,
   "id": "6a40d174",
   "metadata": {},
   "outputs": [
    {
     "ename": "ValueError",
     "evalue": "cannot insert Matricule, already exists",
     "output_type": "error",
     "traceback": [
      "\u001b[31m---------------------------------------------------------------------------\u001b[39m",
      "\u001b[31mValueError\u001b[39m                                Traceback (most recent call last)",
      "\u001b[32m~\\AppData\\Local\\Temp\\ipykernel_968\\1005780199.py\u001b[39m in \u001b[36m?\u001b[39m\u001b[34m()\u001b[39m\n\u001b[32m      1\u001b[39m data=pd.read_excel(\u001b[33m'Base.xlsx'\u001b[39m, sheet_name=\u001b[33m\"Liste\"\u001b[39m)\n\u001b[32m----> \u001b[39m\u001b[32m2\u001b[39m data=data.reset_index(names=[\u001b[33m\"Matricule\"\u001b[39m])\n",
      "\u001b[32mc:\\Users\\LK\\AppData\\Local\\Programs\\Python\\Python311\\Lib\\site-packages\\pandas\\core\\frame.py\u001b[39m in \u001b[36m?\u001b[39m\u001b[34m(self, level, drop, inplace, col_level, col_fill, allow_duplicates, names)\u001b[39m\n\u001b[32m   6468\u001b[39m                     level_values = algorithms.take(\n\u001b[32m   6469\u001b[39m                         level_values, lab, allow_fill=\u001b[38;5;28;01mTrue\u001b[39;00m, fill_value=lev._na_value\n\u001b[32m   6470\u001b[39m                     )\n\u001b[32m   6471\u001b[39m \n\u001b[32m-> \u001b[39m\u001b[32m6472\u001b[39m                 new_obj.insert(\n\u001b[32m   6473\u001b[39m                     \u001b[32m0\u001b[39m,\n\u001b[32m   6474\u001b[39m                     name,\n\u001b[32m   6475\u001b[39m                     level_values,\n",
      "\u001b[32mc:\\Users\\LK\\AppData\\Local\\Programs\\Python\\Python311\\Lib\\site-packages\\pandas\\core\\frame.py\u001b[39m in \u001b[36m?\u001b[39m\u001b[34m(self, loc, column, value, allow_duplicates)\u001b[39m\n\u001b[32m   5154\u001b[39m                 \u001b[33m\"'self.flags.allows_duplicate_labels' is False.\"\u001b[39m\n\u001b[32m   5155\u001b[39m             )\n\u001b[32m   5156\u001b[39m         \u001b[38;5;28;01mif\u001b[39;00m \u001b[38;5;28;01mnot\u001b[39;00m allow_duplicates \u001b[38;5;28;01mand\u001b[39;00m column \u001b[38;5;28;01min\u001b[39;00m self.columns:\n\u001b[32m   5157\u001b[39m             \u001b[38;5;66;03m# Should this be a different kind of error??\u001b[39;00m\n\u001b[32m-> \u001b[39m\u001b[32m5158\u001b[39m             \u001b[38;5;28;01mraise\u001b[39;00m ValueError(\u001b[33mf\"cannot insert {column}, already exists\"\u001b[39m)\n\u001b[32m   5159\u001b[39m         \u001b[38;5;28;01mif\u001b[39;00m \u001b[38;5;28;01mnot\u001b[39;00m is_integer(loc):\n\u001b[32m   5160\u001b[39m             \u001b[38;5;28;01mraise\u001b[39;00m TypeError(\u001b[33m\"loc must be int\"\u001b[39m)\n\u001b[32m   5161\u001b[39m         \u001b[38;5;66;03m# convert non stdlib ints to satisfy typing checks\u001b[39;00m\n",
      "\u001b[31mValueError\u001b[39m: cannot insert Matricule, already exists"
     ]
    }
   ],
   "source": [
    "data=pd.read_excel('Base.xlsx', sheet_name=\"Liste\")\n",
    "data=data.reset_index(names=[\"Matricule\"])"
   ]
  },
  {
   "cell_type": "code",
   "execution_count": 23,
   "id": "01da2c45",
   "metadata": {},
   "outputs": [],
   "source": [
    "dico_data=data.set_index('Matricule').T.to_dict('list')"
   ]
  },
  {
   "cell_type": "code",
   "execution_count": 26,
   "id": "32320b27",
   "metadata": {},
   "outputs": [
    {
     "data": {
      "text/plain": [
       "{12063: ['BOBE BIANBO BALLET', 'MAP2'],\n",
       " 23121: ['MOHAMED AG Mohamedine', 'MAP2'],\n",
       " 23122: ['TEBSOUGUE SEYDOU Dit Jacques', 'MAP2'],\n",
       " 24192: ['AYISSI BEBOM Daniela Mamerth', 'L2BD'],\n",
       " 24193: ['DJOUDJI NDJIFACK Orlane Harmonie', 'L2BD'],\n",
       " 24194: ['DONFACK Antoine Flaubert', 'L2BD'],\n",
       " 24195: ['EMANI NGADEU Cyril Christian', 'L2BD'],\n",
       " 24196: ['HAIDARA Mahamar Sidi Boubacar', 'L2BD'],\n",
       " 24197: ['MAHI NDOUNG Rodrigue', 'L2BD'],\n",
       " 24198: ['MOUYOMBON MESSI Adrienne Frédérique', 'L2BD'],\n",
       " 24199: ['NIECHE NJECHE NJICHOU Gilles Russel', 'L2BD'],\n",
       " 24200: ['NTECHE Nouvellin', 'L2BD'],\n",
       " 24201: ['RAVANANY Jocel', 'L2BD'],\n",
       " 23149: ['AZEUMO DONGMO Priscille Miryam', 'MDSMS2'],\n",
       " 23150: ['BANTSIMBA MINISALAB Freddy Gladys', 'MDSMS2'],\n",
       " 22129: ['BOUM BISSEMB Osée Emmanuel', 'MDSMS2'],\n",
       " 23151: ['DIARRA DRISSA', 'MDSMS2'],\n",
       " 23153: ['ESTELLE Nguele Nga', 'MDSMS2'],\n",
       " 23154: ['FOUOSSO TIOYO Arnauld Willy', 'MDSMS2'],\n",
       " 23155: ['HASSANE HILENOUDJIM', 'MDSMS2'],\n",
       " '06TSS08': ['ITSATSA Arnaud Thibaut', 'MDSMS2'],\n",
       " 22134: ['JOB MATIP Alice Bryan', 'MDSMS2'],\n",
       " 23156: ['KADEYA Harmis', 'MDSMS2'],\n",
       " 23157: ['KAMANKE Jude Eric', 'MDSMS2'],\n",
       " 23158: ['KEITA Mohamed Lamine', 'MDSMS2'],\n",
       " 23159: ['MATSOUMBOU MAMONEKENE Eliezer Karl Bernic', 'MDSMS2'],\n",
       " 23160: ['MOUTOUWALI Fadoul Doutoum', 'MDSMS2'],\n",
       " 15029: ['NDJENTI Paul Marcel', 'MDSMS2'],\n",
       " 22118: ['NDOMO Alphonse Joseph', 'MDSMS2'],\n",
       " 23162: ['NFAMOUN Abirou', 'MDSMS2'],\n",
       " 23164: ['NGAMBOU KAMETCHA Hermann Gaêl', 'MDSMS2'],\n",
       " 22136: ['NGWEKO Ange Kyriane', 'MDSMS2'],\n",
       " 22138: ['NSONDET-BAHOU Aimé Mac Julian', 'MDSMS2'],\n",
       " 22139: ['NZAMEYO ESSONO Albert Victorien', 'MDSMS2'],\n",
       " 23165: ['OBANDA Henri Jeferson Dieu-Le-Veut', 'MDSMS2'],\n",
       " 23166: ['SOBGO DONGO Josiane', 'MDSMS2'],\n",
       " 22148: ['YATTARA MAHAMADOU Alassane', 'MDSMS2'],\n",
       " 23168: ['BASSI MBANG Yann Franck Arthur', 'MSA2'],\n",
       " 23169: ['ONSOUBO DJEZILBE Jean', 'MSA2'],\n",
       " 23170: ['TATCHI TATCHI Christian Raymond', 'MSA2'],\n",
       " 24190: ['BANENGAI GUENEMON Nickson Yowan', 'MAP'],\n",
       " 23138: ['BINDELE Freddy Loîc', 'MAP'],\n",
       " 23141: ['KITE TIADJIO Guylaine Dora', 'MAP'],\n",
       " 23136: ['NSEBLA Rose Audrey', 'MAP'],\n",
       " 24191: ['RAHOASA HERINIAINA Andrea', 'MAP'],\n",
       " 23123: ['ABONDO MEMANG Ivan Leny', 'MDSMS'],\n",
       " 24170: ['BEINDI Felix HOUMBI', 'MDSMS'],\n",
       " 24171: ['DEDIM GUELBE Apollinaire', 'MDSMS'],\n",
       " 24172: ['DJOKNONE Laurent', 'MDSMS'],\n",
       " 23152: ['EKWANE Franck', 'MDSMS'],\n",
       " 13073: ['EWOUDI MBEDI EBENE Flavien Stéphane', 'MDSMS'],\n",
       " 23129: ['KAMATE Saran Beh', 'MDSMS'],\n",
       " 23130: ['KIYINDOU Destin Consolé', 'MDSMS'],\n",
       " 24173: ['KOUMETIO Jessy Grace', 'MDSMS'],\n",
       " 24174: ['MAMA Idissa Adnane', 'MDSMS'],\n",
       " 23132: ['MATSING MEVOUNGOU Orlane Maëlys', 'MDSMS'],\n",
       " 24175: ['MESSINA ATA Mallory Noëlle', 'MDSMS'],\n",
       " 24176: ['MODJARBA Habib', 'MDSMS'],\n",
       " 24177: ['NGOUANA FAUMETE Etienne Yvan', 'MDSMS'],\n",
       " 24178: ['OBAMA Christian', 'MDSMS'],\n",
       " 24179: ['OTABELA ANGAYENE Stéphane Pascal', 'MDSMS'],\n",
       " 24180: ['SHOUAME Jean Pierre', 'MDSMS'],\n",
       " 24181: ['TCHUIDJANG Henri Lambert', 'MDSMS'],\n",
       " 23137: ['WAMBE Jordan Valère', 'MDSMS'],\n",
       " 24182: ['ATEBA Blandine Laeticia', 'M2SA'],\n",
       " 24183: ['BIANPAMBE POMBE Alfred', 'M2SA'],\n",
       " 24184: ['DJANDOUKET NCHOUTE Aïssatou', 'M2SA'],\n",
       " 24185: ['DJELASSEM Francklin', 'M2SA'],\n",
       " 24186: ['FOUNADOUDOU', 'M2SA'],\n",
       " 24187: ['MBAIRANODJI André', 'M2SA'],\n",
       " 24188: ['MBOM MBOM Pierre Valdeze', 'M2SA'],\n",
       " 24189: ['TOGUEM Hugues Robinson', 'M2SA'],\n",
       " 24202: ['BELINGA Jean-Yves Franck', 'LGTSD'],\n",
       " 24203: ['CALEB VANDOREN AFOUODJI', 'LGTSD'],\n",
       " 24204: ['DIALLO SIAKA', 'LGTSD'],\n",
       " 24205: ['DIARRA Mohamed', 'LGTSD'],\n",
       " 24206: ['DJEGOLDE Yanic ', 'LGTSD'],\n",
       " 24207: ['DOUMBIA Assan ', 'LGTSD'],\n",
       " 24208: ['DOURBELA Saidou', 'LGTSD'],\n",
       " 24209: ['KOICHIP NGATCHEU Steve Loïc', 'LGTSD'],\n",
       " 24210: ['KOUANANG Franck Cyrille', 'LGTSD'],\n",
       " 24211: ['NDOUMWAMI Salomon KOYE', 'LGTSD'],\n",
       " 23147: ['*NGONO AMOUGOU Franck Dominique', 'LGTSD'],\n",
       " 24212: ['NYAVOM MBANDA Justine Diane', 'LGTSD'],\n",
       " 24213: ['NZEKENG NKENFACK Synthia', 'LGTSD'],\n",
       " 24214: ['OMBE AYISSI Claude Stéphane', 'LGTSD'],\n",
       " 24215: ['ONDOUA BEYENE Blaise ', 'LGTSD'],\n",
       " 24216: ['SIDIBE Sira', 'LGTSD'],\n",
       " 24217: ['TCHIYAK FANMOE Jules', 'LGTSD'],\n",
       " 24218: ['TEUKEU TCHANDJI Boris', 'LGTSD'],\n",
       " 24219: ['TOURE Aly', 'LGTSD'],\n",
       " 24220: ['TOURE Moussa', 'LGTSD']}"
      ]
     },
     "execution_count": 26,
     "metadata": {},
     "output_type": "execute_result"
    }
   ],
   "source": [
    "dico_data"
   ]
  },
  {
   "cell_type": "code",
   "execution_count": 27,
   "id": "09d193d5",
   "metadata": {},
   "outputs": [
    {
     "data": {
      "text/plain": [
       "'BOBE BIANBO BALLET'"
      ]
     },
     "execution_count": 27,
     "metadata": {},
     "output_type": "execute_result"
    }
   ],
   "source": [
    "dico_data[12063][0]"
   ]
  }
 ],
 "metadata": {
  "kernelspec": {
   "display_name": "Python 3",
   "language": "python",
   "name": "python3"
  },
  "language_info": {
   "codemirror_mode": {
    "name": "ipython",
    "version": 3
   },
   "file_extension": ".py",
   "mimetype": "text/x-python",
   "name": "python",
   "nbconvert_exporter": "python",
   "pygments_lexer": "ipython3",
   "version": "3.11.9"
  }
 },
 "nbformat": 4,
 "nbformat_minor": 5
}
